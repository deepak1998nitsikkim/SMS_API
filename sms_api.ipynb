{
 "cells": [
  {
   "cell_type": "code",
   "execution_count": 3,
   "id": "75bc736e",
   "metadata": {},
   "outputs": [
    {
     "name": "stdout",
     "output_type": "stream",
     "text": [
      "Collecting twilio\n",
      "  Downloading twilio-8.4.0-py2.py3-none-any.whl (1.7 MB)\n",
      "     ---------------------------------------- 1.7/1.7 MB 5.8 MB/s eta 0:00:00\n",
      "Collecting aiohttp-retry>=2.8.3\n",
      "  Downloading aiohttp_retry-2.8.3-py3-none-any.whl (9.8 kB)\n",
      "Requirement already satisfied: PyJWT<3.0.0,>=2.0.0 in c:\\users\\deepa\\anaconda3\\lib\\site-packages (from twilio) (2.4.0)\n",
      "Requirement already satisfied: requests>=2.0.0 in c:\\users\\deepa\\anaconda3\\lib\\site-packages (from twilio) (2.28.1)\n",
      "Requirement already satisfied: pytz in c:\\users\\deepa\\anaconda3\\lib\\site-packages (from twilio) (2022.1)\n",
      "Collecting aiohttp>=3.8.4\n",
      "  Downloading aiohttp-3.8.4-cp39-cp39-win_amd64.whl (323 kB)\n",
      "     -------------------------------------- 323.6/323.6 kB 5.1 MB/s eta 0:00:00\n",
      "Collecting aiosignal>=1.1.2\n",
      "  Downloading aiosignal-1.3.1-py3-none-any.whl (7.6 kB)\n",
      "Requirement already satisfied: charset-normalizer<4.0,>=2.0 in c:\\users\\deepa\\anaconda3\\lib\\site-packages (from aiohttp>=3.8.4->twilio) (2.0.4)\n",
      "Collecting frozenlist>=1.1.1\n",
      "  Downloading frozenlist-1.3.3-cp39-cp39-win_amd64.whl (34 kB)\n",
      "Collecting async-timeout<5.0,>=4.0.0a3\n",
      "  Downloading async_timeout-4.0.2-py3-none-any.whl (5.8 kB)\n",
      "Collecting multidict<7.0,>=4.5\n",
      "  Downloading multidict-6.0.4-cp39-cp39-win_amd64.whl (28 kB)\n",
      "Requirement already satisfied: attrs>=17.3.0 in c:\\users\\deepa\\anaconda3\\lib\\site-packages (from aiohttp>=3.8.4->twilio) (21.4.0)\n",
      "Collecting yarl<2.0,>=1.0\n",
      "  Downloading yarl-1.9.2-cp39-cp39-win_amd64.whl (61 kB)\n",
      "     ---------------------------------------- 61.7/61.7 kB 3.2 MB/s eta 0:00:00\n",
      "Requirement already satisfied: idna<4,>=2.5 in c:\\users\\deepa\\anaconda3\\lib\\site-packages (from requests>=2.0.0->twilio) (3.3)\n",
      "Requirement already satisfied: urllib3<1.27,>=1.21.1 in c:\\users\\deepa\\anaconda3\\lib\\site-packages (from requests>=2.0.0->twilio) (1.26.11)\n",
      "Requirement already satisfied: certifi>=2017.4.17 in c:\\users\\deepa\\anaconda3\\lib\\site-packages (from requests>=2.0.0->twilio) (2022.9.14)\n",
      "Installing collected packages: multidict, frozenlist, async-timeout, yarl, aiosignal, aiohttp, aiohttp-retry, twilio\n",
      "Successfully installed aiohttp-3.8.4 aiohttp-retry-2.8.3 aiosignal-1.3.1 async-timeout-4.0.2 frozenlist-1.3.3 multidict-6.0.4 twilio-8.4.0 yarl-1.9.2\n",
      "Note: you may need to restart the kernel to use updated packages.\n"
     ]
    }
   ],
   "source": [
    "pip install twilio"
   ]
  },
  {
   "cell_type": "code",
   "execution_count": 39,
   "id": "08164934",
   "metadata": {},
   "outputs": [
    {
     "name": "stdout",
     "output_type": "stream",
     "text": [
      "SMS sent successfully :)\n"
     ]
    },
    {
     "data": {
      "text/plain": [
       "'SMe33113ec3c080797eed08b8616ad9786'"
      ]
     },
     "execution_count": 39,
     "metadata": {},
     "output_type": "execute_result"
    }
   ],
   "source": [
    "from twilio.rest import Client\n",
    "\n",
    "account_sid = 'Your Twilio SID' # twilio SID\n",
    "auth_token = 'Your Twilio Auth Token'    # twilio auth token\n",
    "\n",
    "# Create a Twilio client\n",
    "client = Client(account_sid, auth_token)\n",
    "\n",
    "def send_sms(number, message):\n",
    "    \n",
    "    try:\n",
    "        # Send SMS\n",
    "        message = client.messages.create(\n",
    "            body=message,\n",
    "            from_ = \"Your Twilio Number\", # twilio number\n",
    "            to = number\n",
    "        )\n",
    "        print(\"SMS sent successfully :)\")\n",
    "        return message.sid\n",
    "        \n",
    "    except Exception as e:\n",
    "        print(\"Error in sending SMS:\", str(e))\n",
    "        \n",
    "number = 'Your Phone Number'  # Recipient's phone number # for India +91\n",
    "message = 'Your Message' # Recipinet's message\n",
    "\n",
    "send_sms(number, message)\n",
    "        "
   ]
  },
  {
   "cell_type": "code",
   "execution_count": null,
   "id": "a546758d",
   "metadata": {},
   "outputs": [],
   "source": []
  }
 ],
 "metadata": {
  "kernelspec": {
   "display_name": "Python 3 (ipykernel)",
   "language": "python",
   "name": "python3"
  },
  "language_info": {
   "codemirror_mode": {
    "name": "ipython",
    "version": 3
   },
   "file_extension": ".py",
   "mimetype": "text/x-python",
   "name": "python",
   "nbconvert_exporter": "python",
   "pygments_lexer": "ipython3",
   "version": "3.9.13"
  }
 },
 "nbformat": 4,
 "nbformat_minor": 5
}
